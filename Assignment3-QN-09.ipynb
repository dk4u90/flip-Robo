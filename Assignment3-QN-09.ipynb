{
 "cells": [
  {
   "cell_type": "code",
   "execution_count": 8,
   "id": "5cf1c834",
   "metadata": {},
   "outputs": [],
   "source": [
    "import selenium\n",
    "import pandas as pd\n",
    "from selenium import webdriver\n",
    "import time\n",
    "from selenium.common.exceptions import StaleElementReferenceException, NoSuchElementException"
   ]
  },
  {
   "cell_type": "code",
   "execution_count": 9,
   "id": "690a2b72",
   "metadata": {},
   "outputs": [],
   "source": [
    "driver = webdriver.Chrome('chromedriver.exe')\n",
    "driver.get('https://www.youtube.com/')\n",
    "time.sleep(5)"
   ]
  },
  {
   "cell_type": "code",
   "execution_count": 10,
   "id": "5d17a9c2",
   "metadata": {},
   "outputs": [],
   "source": [
    "vedio=driver .find_element_by_xpath(\"//a[@class='yt-simple-endpoint inline-block style-scope ytd-thumbnail']\").get_attribute('href')\n",
    "driver.get(vedio)\n",
    "time.sleep(5)"
   ]
  },
  {
   "cell_type": "code",
   "execution_count": null,
   "id": "c8c2c8a0",
   "metadata": {},
   "outputs": [],
   "source": [
    "for _ in range(500):\n",
    "    driver.execute_script(\"window.scrollBy(0,1000)\")\n",
    "time.sleep(10)"
   ]
  },
  {
   "cell_type": "code",
   "execution_count": 16,
   "id": "63dc7c9b",
   "metadata": {},
   "outputs": [],
   "source": [
    "Coments=[]\n",
    "for i in driver.find_elements_by_id(\"content-text\"):\n",
    "    Coments.append(i.text)\n",
    "time.sleep(5)\n",
    "    \n",
    "Time=[]\n",
    "for i in driver.find_elements_by_id(\"header-author\"):\n",
    "    Time.append(i.text)\n",
    "time.sleep(5)"
   ]
  },
  {
   "cell_type": "code",
   "execution_count": 17,
   "id": "73117fc5",
   "metadata": {},
   "outputs": [
    {
     "data": {
      "text/plain": [
       "679"
      ]
     },
     "execution_count": 17,
     "metadata": {},
     "output_type": "execute_result"
    }
   ],
   "source": [
    "len(Coments)"
   ]
  },
  {
   "cell_type": "code",
   "execution_count": 18,
   "id": "31f56a72",
   "metadata": {},
   "outputs": [
    {
     "data": {
      "text/html": [
       "<div>\n",
       "<style scoped>\n",
       "    .dataframe tbody tr th:only-of-type {\n",
       "        vertical-align: middle;\n",
       "    }\n",
       "\n",
       "    .dataframe tbody tr th {\n",
       "        vertical-align: top;\n",
       "    }\n",
       "\n",
       "    .dataframe thead th {\n",
       "        text-align: right;\n",
       "    }\n",
       "</style>\n",
       "<table border=\"1\" class=\"dataframe\">\n",
       "  <thead>\n",
       "    <tr style=\"text-align: right;\">\n",
       "      <th></th>\n",
       "      <th>Comments</th>\n",
       "      <th>Upvote/time</th>\n",
       "    </tr>\n",
       "  </thead>\n",
       "  <tbody>\n",
       "    <tr>\n",
       "      <th>0</th>\n",
       "      <td>Ek like apni maa ki lambi Umar ke dedo ❤️</td>\n",
       "      <td>BOLLYWOOD HINDI SONGS\\n3 weeks ago</td>\n",
       "    </tr>\n",
       "    <tr>\n",
       "      <th>1</th>\n",
       "      <td>The scene gives me dillbar song vibes😁😁😅😅</td>\n",
       "      <td>Punjan Chaudhary\\n4 days ago</td>\n",
       "    </tr>\n",
       "    <tr>\n",
       "      <th>2</th>\n",
       "      <td>Nobody\\nLiterally nobody: \\nMe singing this so...</td>\n",
       "      <td>Elsa anna fan page\\n1 day ago</td>\n",
       "    </tr>\n",
       "    <tr>\n",
       "      <th>3</th>\n",
       "      <td>Me : Can't understanding the words and meaning...</td>\n",
       "      <td>Weekend M Gaming\\n2 days ago</td>\n",
       "    </tr>\n",
       "    <tr>\n",
       "      <th>4</th>\n",
       "      <td>Nostalgia is when u still remeber the original...</td>\n",
       "      <td>Mr Dreamer\\n6 days ago</td>\n",
       "    </tr>\n",
       "    <tr>\n",
       "      <th>...</th>\n",
       "      <td>...</td>\n",
       "      <td>...</td>\n",
       "    </tr>\n",
       "    <tr>\n",
       "      <th>674</th>\n",
       "      <td>thank you for 2.27k 2.50k karvado guys 🙏😍😭 lov...</td>\n",
       "      <td>Tamim Ansari Gamer\\n3 weeks ago</td>\n",
       "    </tr>\n",
       "    <tr>\n",
       "      <th>675</th>\n",
       "      <td>Jhanvi 😍</td>\n",
       "      <td>Dog and Cat Lovers\\n1 day ago</td>\n",
       "    </tr>\n",
       "    <tr>\n",
       "      <th>676</th>\n",
       "      <td>that's more like Sridevi's daughter.</td>\n",
       "      <td>Vikas Singh\\n1 day ago</td>\n",
       "    </tr>\n",
       "    <tr>\n",
       "      <th>677</th>\n",
       "      <td>I miss Nora fatehi in this music 🙂</td>\n",
       "      <td>Sumya Khan\\n4 days ago</td>\n",
       "    </tr>\n",
       "    <tr>\n",
       "      <th>678</th>\n",
       "      <td>Nice👍</td>\n",
       "      <td>Radhakrishna VM world\\n5 days ago</td>\n",
       "    </tr>\n",
       "  </tbody>\n",
       "</table>\n",
       "<p>679 rows × 2 columns</p>\n",
       "</div>"
      ],
      "text/plain": [
       "                                              Comments  \\\n",
       "0            Ek like apni maa ki lambi Umar ke dedo ❤️   \n",
       "1            The scene gives me dillbar song vibes😁😁😅😅   \n",
       "2    Nobody\\nLiterally nobody: \\nMe singing this so...   \n",
       "3    Me : Can't understanding the words and meaning...   \n",
       "4    Nostalgia is when u still remeber the original...   \n",
       "..                                                 ...   \n",
       "674  thank you for 2.27k 2.50k karvado guys 🙏😍😭 lov...   \n",
       "675                                           Jhanvi 😍   \n",
       "676               that's more like Sridevi's daughter.   \n",
       "677                 I miss Nora fatehi in this music 🙂   \n",
       "678                                              Nice👍   \n",
       "\n",
       "                            Upvote/time  \n",
       "0    BOLLYWOOD HINDI SONGS\\n3 weeks ago  \n",
       "1          Punjan Chaudhary\\n4 days ago  \n",
       "2         Elsa anna fan page\\n1 day ago  \n",
       "3          Weekend M Gaming\\n2 days ago  \n",
       "4                Mr Dreamer\\n6 days ago  \n",
       "..                                  ...  \n",
       "674     Tamim Ansari Gamer\\n3 weeks ago  \n",
       "675       Dog and Cat Lovers\\n1 day ago  \n",
       "676              Vikas Singh\\n1 day ago  \n",
       "677              Sumya Khan\\n4 days ago  \n",
       "678   Radhakrishna VM world\\n5 days ago  \n",
       "\n",
       "[679 rows x 2 columns]"
      ]
     },
     "execution_count": 18,
     "metadata": {},
     "output_type": "execute_result"
    }
   ],
   "source": [
    "You_tube=pd.DataFrame({})\n",
    "You_tube['Comments']=Coments\n",
    "You_tube['Upvote/time']=Time\n",
    "You_tube"
   ]
  },
  {
   "cell_type": "code",
   "execution_count": null,
   "id": "f508ba0b",
   "metadata": {},
   "outputs": [],
   "source": []
  }
 ],
 "metadata": {
  "kernelspec": {
   "display_name": "Python 3",
   "language": "python",
   "name": "python3"
  },
  "language_info": {
   "codemirror_mode": {
    "name": "ipython",
    "version": 3
   },
   "file_extension": ".py",
   "mimetype": "text/x-python",
   "name": "python",
   "nbconvert_exporter": "python",
   "pygments_lexer": "ipython3",
   "version": "3.8.8"
  }
 },
 "nbformat": 4,
 "nbformat_minor": 5
}

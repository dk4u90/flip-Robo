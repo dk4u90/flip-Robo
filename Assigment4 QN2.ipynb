{
 "cells": [
  {
   "cell_type": "code",
   "execution_count": 9,
   "id": "d3bebc0b",
   "metadata": {},
   "outputs": [],
   "source": [
    "import time\n",
    "import selenium\n",
    "import pandas as pd\n",
    "from selenium import webdriver\n",
    "from selenium.webdriver.common.keys import Keys"
   ]
  },
  {
   "cell_type": "code",
   "execution_count": 2,
   "id": "df6fab4a",
   "metadata": {},
   "outputs": [],
   "source": [
    "driver = webdriver.Chrome('chromedriver.exe')\n",
    "driver.get('https://www.bcci.tv/')"
   ]
  },
  {
   "cell_type": "code",
   "execution_count": 8,
   "id": "3f31b38e",
   "metadata": {},
   "outputs": [
    {
     "data": {
      "text/plain": [
       "[]"
      ]
     },
     "execution_count": 8,
     "metadata": {},
     "output_type": "execute_result"
    }
   ],
   "source": [
    "URL=[]\n",
    "for i in driver.find_elements_by_xpath('//div[@class=\"event-list__list\"]/div/a'):\n",
    "    URL.append(i.get_attribute('href'))\n",
    "URL  "
   ]
  },
  {
   "cell_type": "code",
   "execution_count": 4,
   "id": "99faf1e7",
   "metadata": {},
   "outputs": [],
   "source": [
    "Match_title=[]\n",
    "Series_Place=[]\n",
    "Date=[]\n",
    "Time=[]\n",
    "# Scraping data from each url\n",
    "for i in URL:\n",
    "    # Loading the webpage by url \n",
    "    driver.get(i)\n",
    "    \n",
    "    # Extracting Match_title from xpath\n",
    "    try:\n",
    "        match_title=driver.find_element_by_xpath(\"//span[@class='mc-header-info__match-description-match-type mc-theme-color']\")\n",
    "        Match_title.append(match_title.text)\n",
    "    except NoSuchElementException:\n",
    "        Match_title.append(\"_\")\n",
    "        \n",
    "        \n",
    "    # Extracting Series_Place from xpath\n",
    "    try:\n",
    "        series_Place=driver.find_element_by_xpath(\"//h1[@class='mc-header-info__title']\")\n",
    "        Series_Place.append(series_Place.text)\n",
    "    except NoSuchElementException:\n",
    "        Series_Place.append(\"_\")\n",
    "        \n",
    "    # Extracting Date from xpath\n",
    "    try:\n",
    "        date=driver.find_element_by_xpath(\"//div[@class='mc-header-scorebox__datetime']\")\n",
    "        Date.append(date.text)\n",
    "    except NoSuchElementException:\n",
    "        Date.append(\"_\")\n",
    "        \n",
    "    # Extracting Time from xpath    \n",
    "    try:\n",
    "        time=driver.find_element_by_xpath(\"//div[@class='mc-header-scorebox__datetime']/span\")\n",
    "        Time.append(time.text)\n",
    "    except NoSuchElementException:\n",
    "        Time.append(\"_\")"
   ]
  },
  {
   "cell_type": "code",
   "execution_count": 5,
   "id": "18134857",
   "metadata": {},
   "outputs": [],
   "source": [
    "ICIC=pd.DataFrame({})\n",
    "ICIC['Match_title']=Match_title\n",
    "ICIC['Series_Place']=Series_Place\n",
    "ICIC['Date']=Date\n",
    "ICIC['Time']=Time\n"
   ]
  },
  {
   "cell_type": "code",
   "execution_count": 6,
   "id": "8a0f103c",
   "metadata": {},
   "outputs": [
    {
     "data": {
      "text/html": [
       "<div>\n",
       "<style scoped>\n",
       "    .dataframe tbody tr th:only-of-type {\n",
       "        vertical-align: middle;\n",
       "    }\n",
       "\n",
       "    .dataframe tbody tr th {\n",
       "        vertical-align: top;\n",
       "    }\n",
       "\n",
       "    .dataframe thead th {\n",
       "        text-align: right;\n",
       "    }\n",
       "</style>\n",
       "<table border=\"1\" class=\"dataframe\">\n",
       "  <thead>\n",
       "    <tr style=\"text-align: right;\">\n",
       "      <th></th>\n",
       "      <th>Match_title</th>\n",
       "      <th>Series_Place</th>\n",
       "      <th>Date</th>\n",
       "      <th>Time</th>\n",
       "    </tr>\n",
       "  </thead>\n",
       "  <tbody>\n",
       "  </tbody>\n",
       "</table>\n",
       "</div>"
      ],
      "text/plain": [
       "Empty DataFrame\n",
       "Columns: [Match_title, Series_Place, Date, Time]\n",
       "Index: []"
      ]
     },
     "execution_count": 6,
     "metadata": {},
     "output_type": "execute_result"
    }
   ],
   "source": [
    "ICIC"
   ]
  },
  {
   "cell_type": "code",
   "execution_count": null,
   "id": "d3a70ac5",
   "metadata": {},
   "outputs": [],
   "source": []
  }
 ],
 "metadata": {
  "kernelspec": {
   "display_name": "Python 3",
   "language": "python",
   "name": "python3"
  },
  "language_info": {
   "codemirror_mode": {
    "name": "ipython",
    "version": 3
   },
   "file_extension": ".py",
   "mimetype": "text/x-python",
   "name": "python",
   "nbconvert_exporter": "python",
   "pygments_lexer": "ipython3",
   "version": "3.8.8"
  }
 },
 "nbformat": 4,
 "nbformat_minor": 5
}

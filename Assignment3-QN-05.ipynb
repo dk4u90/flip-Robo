{
 "cells": [
  {
   "cell_type": "code",
   "execution_count": 1,
   "id": "0d8d8188",
   "metadata": {},
   "outputs": [],
   "source": [
    "import re\n",
    "import selenium\n",
    "import pandas as pd\n",
    "from selenium import webdriver\n",
    "import time\n",
    "from selenium.common.exceptions import StaleElementReferenceException, NoSuchElementException"
   ]
  },
  {
   "cell_type": "code",
   "execution_count": 2,
   "id": "fa72edeb",
   "metadata": {},
   "outputs": [],
   "source": [
    "driver = webdriver.Chrome('chromedriver.exe')\n",
    "driver.get('https://www.google.co.in/maps')"
   ]
  },
  {
   "cell_type": "code",
   "execution_count": 3,
   "id": "6c1edfc7",
   "metadata": {},
   "outputs": [],
   "source": [
    "search = driver.find_element_by_id(\"searchboxinput\")                      \n",
    "search.clear()                                                             \n",
    "time.sleep(2)\n",
    "search.send_keys(\"New Delhi\")                                                    \n",
    "button = driver.find_element_by_id(\"searchbox-searchbutton\")              \n",
    "button.click()                                                            \n",
    "time.sleep(3)\n"
   ]
  },
  {
   "cell_type": "code",
   "execution_count": 4,
   "id": "132688b5",
   "metadata": {},
   "outputs": [
    {
     "data": {
      "text/plain": [
       "'https://www.google.co.in/maps/place/New+Delhi,+Delhi/@28.5272803,77.0688962,11z/data=!3m1!4b1!4m5!3m4!1s0x390cfd5b347eb62d:0x52c2b7494e204dce!8m2!3d28.6139391!4d77.2090212'"
      ]
     },
     "execution_count": 4,
     "metadata": {},
     "output_type": "execute_result"
    }
   ],
   "source": [
    "url_string = driver.current_url\n",
    "url_string"
   ]
  },
  {
   "cell_type": "code",
   "execution_count": 5,
   "id": "a9d00003",
   "metadata": {},
   "outputs": [
    {
     "data": {
      "text/plain": [
       "['28.5272803,77.0688962,11z/']"
      ]
     },
     "execution_count": 5,
     "metadata": {},
     "output_type": "execute_result"
    }
   ],
   "source": [
    "lat_lng = re.findall('@(.*)data',url_string)\n",
    "lat_lng"
   ]
  },
  {
   "cell_type": "code",
   "execution_count": 6,
   "id": "efcfe3f8",
   "metadata": {},
   "outputs": [
    {
     "name": "stdout",
     "output_type": "stream",
     "text": [
      "URL Extracted:  https://www.google.co.in/maps/place/New+Delhi,+Delhi/@28.5272803,77.0688962,11z/data=!3m1!4b1!4m5!3m4!1s0x390cfd5b347eb62d:0x52c2b7494e204dce!8m2!3d28.6139391!4d77.2090212\n",
      "Latitude = 28.5272803, Longitude = 77.0688962\n"
     ]
    }
   ],
   "source": [
    "try:\n",
    "    url_string = driver.current_url\n",
    "    print(\"URL Extracted: \", url_string)\n",
    "    lat_lng = re.findall(r'@(.*)data',url_string)\n",
    "    if len(lat_lng):\n",
    "        lat_lng_list = lat_lng[0].split(\",\")\n",
    "        if len(lat_lng_list)>=2:\n",
    "            lat = lat_lng_list[0]\n",
    "            lng = lat_lng_list[1]\n",
    "        print(\"Latitude = {}, Longitude = {}\".format(lat, lng))\n",
    "\n",
    "except Exception as e:\n",
    "        print(\"Error: \", str(e))"
   ]
  },
  {
   "cell_type": "code",
   "execution_count": null,
   "id": "817eb31b",
   "metadata": {},
   "outputs": [],
   "source": []
  }
 ],
 "metadata": {
  "kernelspec": {
   "display_name": "Python 3",
   "language": "python",
   "name": "python3"
  },
  "language_info": {
   "codemirror_mode": {
    "name": "ipython",
    "version": 3
   },
   "file_extension": ".py",
   "mimetype": "text/x-python",
   "name": "python",
   "nbconvert_exporter": "python",
   "pygments_lexer": "ipython3",
   "version": "3.8.8"
  }
 },
 "nbformat": 4,
 "nbformat_minor": 5
}

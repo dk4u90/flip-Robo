{
 "cells": [
  {
   "cell_type": "code",
   "execution_count": 1,
   "id": "e0596a14",
   "metadata": {},
   "outputs": [],
   "source": [
    "import pandas as pd\n",
    "import numpy as np\n",
    "import matplotlib.pyplot as plt"
   ]
  },
  {
   "cell_type": "code",
   "execution_count": 2,
   "id": "6d40d224",
   "metadata": {},
   "outputs": [],
   "source": [
    "Car=pd.read_csv('FristCar24.csv')"
   ]
  },
  {
   "cell_type": "code",
   "execution_count": 3,
   "id": "fd228838",
   "metadata": {},
   "outputs": [
    {
     "data": {
      "text/html": [
       "<div>\n",
       "<style scoped>\n",
       "    .dataframe tbody tr th:only-of-type {\n",
       "        vertical-align: middle;\n",
       "    }\n",
       "\n",
       "    .dataframe tbody tr th {\n",
       "        vertical-align: top;\n",
       "    }\n",
       "\n",
       "    .dataframe thead th {\n",
       "        text-align: right;\n",
       "    }\n",
       "</style>\n",
       "<table border=\"1\" class=\"dataframe\">\n",
       "  <thead>\n",
       "    <tr style=\"text-align: right;\">\n",
       "      <th></th>\n",
       "      <th>0</th>\n",
       "      <th>1</th>\n",
       "    </tr>\n",
       "  </thead>\n",
       "  <tbody>\n",
       "    <tr>\n",
       "      <th>0</th>\n",
       "      <td>2020</td>\n",
       "      <td>Maruti Baleno</td>\n",
       "    </tr>\n",
       "    <tr>\n",
       "      <th>1</th>\n",
       "      <td>2020</td>\n",
       "      <td>Maruti Baleno</td>\n",
       "    </tr>\n",
       "    <tr>\n",
       "      <th>2</th>\n",
       "      <td>2014</td>\n",
       "      <td>Maruti Alto 800</td>\n",
       "    </tr>\n",
       "    <tr>\n",
       "      <th>3</th>\n",
       "      <td>2019</td>\n",
       "      <td>Renault TRIBER</td>\n",
       "    </tr>\n",
       "    <tr>\n",
       "      <th>4</th>\n",
       "      <td>2021</td>\n",
       "      <td>Hyundai VENUE</td>\n",
       "    </tr>\n",
       "    <tr>\n",
       "      <th>...</th>\n",
       "      <td>...</td>\n",
       "      <td>...</td>\n",
       "    </tr>\n",
       "    <tr>\n",
       "      <th>2794</th>\n",
       "      <td>2016</td>\n",
       "      <td>Hyundai Elite i20</td>\n",
       "    </tr>\n",
       "    <tr>\n",
       "      <th>2795</th>\n",
       "      <td>2014</td>\n",
       "      <td>Hyundai Verna</td>\n",
       "    </tr>\n",
       "    <tr>\n",
       "      <th>2796</th>\n",
       "      <td>2020</td>\n",
       "      <td>Maruti Baleno</td>\n",
       "    </tr>\n",
       "    <tr>\n",
       "      <th>2797</th>\n",
       "      <td>2011</td>\n",
       "      <td>Hyundai i20</td>\n",
       "    </tr>\n",
       "    <tr>\n",
       "      <th>2798</th>\n",
       "      <td>2012</td>\n",
       "      <td>Mitsubishi Pajero Sport</td>\n",
       "    </tr>\n",
       "  </tbody>\n",
       "</table>\n",
       "<p>2799 rows × 2 columns</p>\n",
       "</div>"
      ],
      "text/plain": [
       "         0                        1\n",
       "0     2020            Maruti Baleno\n",
       "1     2020            Maruti Baleno\n",
       "2     2014          Maruti Alto 800\n",
       "3     2019           Renault TRIBER\n",
       "4     2021            Hyundai VENUE\n",
       "...    ...                      ...\n",
       "2794  2016        Hyundai Elite i20\n",
       "2795  2014            Hyundai Verna\n",
       "2796  2020            Maruti Baleno\n",
       "2797  2011              Hyundai i20\n",
       "2798  2012  Mitsubishi Pajero Sport\n",
       "\n",
       "[2799 rows x 2 columns]"
      ]
     },
     "execution_count": 3,
     "metadata": {},
     "output_type": "execute_result"
    }
   ],
   "source": [
    "y = Car['car_Brand'].str.split(\" \", n = 1, expand = True)\n",
    "y"
   ]
  },
  {
   "cell_type": "code",
   "execution_count": 4,
   "id": "c6e43c46",
   "metadata": {},
   "outputs": [
    {
     "data": {
      "text/html": [
       "<div>\n",
       "<style scoped>\n",
       "    .dataframe tbody tr th:only-of-type {\n",
       "        vertical-align: middle;\n",
       "    }\n",
       "\n",
       "    .dataframe tbody tr th {\n",
       "        vertical-align: top;\n",
       "    }\n",
       "\n",
       "    .dataframe thead th {\n",
       "        text-align: right;\n",
       "    }\n",
       "</style>\n",
       "<table border=\"1\" class=\"dataframe\">\n",
       "  <thead>\n",
       "    <tr style=\"text-align: right;\">\n",
       "      <th></th>\n",
       "      <th>Unnamed: 0</th>\n",
       "      <th>car_Brand</th>\n",
       "      <th>car_owner</th>\n",
       "      <th>car_kilometers</th>\n",
       "      <th>car_fuel_type</th>\n",
       "      <th>car_transmission</th>\n",
       "      <th>car_model</th>\n",
       "      <th>car_price</th>\n",
       "      <th>Year</th>\n",
       "    </tr>\n",
       "  </thead>\n",
       "  <tbody>\n",
       "    <tr>\n",
       "      <th>0</th>\n",
       "      <td>0</td>\n",
       "      <td>Maruti Baleno</td>\n",
       "      <td>1st Owner</td>\n",
       "      <td>3,920 km</td>\n",
       "      <td>Petrol</td>\n",
       "      <td>Manual</td>\n",
       "      <td>DELTA 1.2 K12 Manual</td>\n",
       "      <td>₹6,45,199</td>\n",
       "      <td>2020</td>\n",
       "    </tr>\n",
       "    <tr>\n",
       "      <th>1</th>\n",
       "      <td>1</td>\n",
       "      <td>Maruti Baleno</td>\n",
       "      <td>1st Owner</td>\n",
       "      <td>5,645 km</td>\n",
       "      <td>Petrol</td>\n",
       "      <td>Manual</td>\n",
       "      <td>SIGMA 1.2 K12 Manual</td>\n",
       "      <td>₹5,74,999</td>\n",
       "      <td>2020</td>\n",
       "    </tr>\n",
       "    <tr>\n",
       "      <th>2</th>\n",
       "      <td>2</td>\n",
       "      <td>Maruti Alto 800</td>\n",
       "      <td>1st Owner</td>\n",
       "      <td>12,535 km</td>\n",
       "      <td>Petrol</td>\n",
       "      <td>Manual</td>\n",
       "      <td>VXI Manual</td>\n",
       "      <td>₹2,93,599</td>\n",
       "      <td>2014</td>\n",
       "    </tr>\n",
       "    <tr>\n",
       "      <th>3</th>\n",
       "      <td>3</td>\n",
       "      <td>Renault TRIBER</td>\n",
       "      <td>1st Owner</td>\n",
       "      <td>7,704 km</td>\n",
       "      <td>Petrol</td>\n",
       "      <td>Manual</td>\n",
       "      <td>1.0 RXL PETROL Manual</td>\n",
       "      <td>₹4,73,499</td>\n",
       "      <td>2019</td>\n",
       "    </tr>\n",
       "    <tr>\n",
       "      <th>4</th>\n",
       "      <td>4</td>\n",
       "      <td>Hyundai VENUE</td>\n",
       "      <td>1st Owner</td>\n",
       "      <td>2,589 km</td>\n",
       "      <td>Petrol</td>\n",
       "      <td>NaN</td>\n",
       "      <td>S MT 1.2 KAPPA</td>\n",
       "      <td>₹7,94,699</td>\n",
       "      <td>2021</td>\n",
       "    </tr>\n",
       "    <tr>\n",
       "      <th>...</th>\n",
       "      <td>...</td>\n",
       "      <td>...</td>\n",
       "      <td>...</td>\n",
       "      <td>...</td>\n",
       "      <td>...</td>\n",
       "      <td>...</td>\n",
       "      <td>...</td>\n",
       "      <td>...</td>\n",
       "      <td>...</td>\n",
       "    </tr>\n",
       "    <tr>\n",
       "      <th>2794</th>\n",
       "      <td>2794</td>\n",
       "      <td>Hyundai Elite i20</td>\n",
       "      <td>1st Owner</td>\n",
       "      <td>1,29,194 km</td>\n",
       "      <td>Diesel</td>\n",
       "      <td>Manual</td>\n",
       "      <td>SPORTZ 1.4 Manual</td>\n",
       "      <td>₹5,72,499</td>\n",
       "      <td>2016</td>\n",
       "    </tr>\n",
       "    <tr>\n",
       "      <th>2795</th>\n",
       "      <td>2795</td>\n",
       "      <td>Hyundai Verna</td>\n",
       "      <td>3rd Owner</td>\n",
       "      <td>1,86,575 km</td>\n",
       "      <td>Diesel</td>\n",
       "      <td>Manual</td>\n",
       "      <td>FLUIDIC 1.6 SX CRDI Manual</td>\n",
       "      <td>₹3,63,299</td>\n",
       "      <td>2014</td>\n",
       "    </tr>\n",
       "    <tr>\n",
       "      <th>2796</th>\n",
       "      <td>2796</td>\n",
       "      <td>Maruti Baleno</td>\n",
       "      <td>1st Owner</td>\n",
       "      <td>10,126 km</td>\n",
       "      <td>Petrol</td>\n",
       "      <td>Manual</td>\n",
       "      <td>DELTA 1.2 K12 Manual</td>\n",
       "      <td>₹6,45,799</td>\n",
       "      <td>2020</td>\n",
       "    </tr>\n",
       "    <tr>\n",
       "      <th>2797</th>\n",
       "      <td>2797</td>\n",
       "      <td>Hyundai i20</td>\n",
       "      <td>2nd Owner</td>\n",
       "      <td>61,798 km</td>\n",
       "      <td>Petrol</td>\n",
       "      <td>Manual</td>\n",
       "      <td>ASTA 1.2 Manual</td>\n",
       "      <td>₹2,30,699</td>\n",
       "      <td>2011</td>\n",
       "    </tr>\n",
       "    <tr>\n",
       "      <th>2798</th>\n",
       "      <td>2798</td>\n",
       "      <td>Mitsubishi Pajero Sport</td>\n",
       "      <td>1st Owner</td>\n",
       "      <td>1,40,976 km</td>\n",
       "      <td>Diesel</td>\n",
       "      <td>Automatic</td>\n",
       "      <td>2.5 MT 4X4 Automatic</td>\n",
       "      <td>₹5,56,599</td>\n",
       "      <td>2012</td>\n",
       "    </tr>\n",
       "  </tbody>\n",
       "</table>\n",
       "<p>2799 rows × 9 columns</p>\n",
       "</div>"
      ],
      "text/plain": [
       "      Unnamed: 0                car_Brand  car_owner car_kilometers  \\\n",
       "0              0            Maruti Baleno  1st Owner       3,920 km   \n",
       "1              1            Maruti Baleno  1st Owner       5,645 km   \n",
       "2              2          Maruti Alto 800  1st Owner      12,535 km   \n",
       "3              3           Renault TRIBER  1st Owner       7,704 km   \n",
       "4              4            Hyundai VENUE  1st Owner       2,589 km   \n",
       "...          ...                      ...        ...            ...   \n",
       "2794        2794        Hyundai Elite i20  1st Owner    1,29,194 km   \n",
       "2795        2795            Hyundai Verna  3rd Owner    1,86,575 km   \n",
       "2796        2796            Maruti Baleno  1st Owner      10,126 km   \n",
       "2797        2797              Hyundai i20  2nd Owner      61,798 km   \n",
       "2798        2798  Mitsubishi Pajero Sport  1st Owner    1,40,976 km   \n",
       "\n",
       "     car_fuel_type car_transmission                   car_model  car_price  \\\n",
       "0           Petrol           Manual        DELTA 1.2 K12 Manual  ₹6,45,199   \n",
       "1           Petrol           Manual        SIGMA 1.2 K12 Manual  ₹5,74,999   \n",
       "2           Petrol           Manual                  VXI Manual  ₹2,93,599   \n",
       "3           Petrol           Manual       1.0 RXL PETROL Manual  ₹4,73,499   \n",
       "4           Petrol              NaN              S MT 1.2 KAPPA  ₹7,94,699   \n",
       "...            ...              ...                         ...        ...   \n",
       "2794        Diesel           Manual           SPORTZ 1.4 Manual  ₹5,72,499   \n",
       "2795        Diesel           Manual  FLUIDIC 1.6 SX CRDI Manual  ₹3,63,299   \n",
       "2796        Petrol           Manual        DELTA 1.2 K12 Manual  ₹6,45,799   \n",
       "2797        Petrol           Manual             ASTA 1.2 Manual  ₹2,30,699   \n",
       "2798        Diesel        Automatic        2.5 MT 4X4 Automatic  ₹5,56,599   \n",
       "\n",
       "      Year  \n",
       "0     2020  \n",
       "1     2020  \n",
       "2     2014  \n",
       "3     2019  \n",
       "4     2021  \n",
       "...    ...  \n",
       "2794  2016  \n",
       "2795  2014  \n",
       "2796  2020  \n",
       "2797  2011  \n",
       "2798  2012  \n",
       "\n",
       "[2799 rows x 9 columns]"
      ]
     },
     "execution_count": 4,
     "metadata": {},
     "output_type": "execute_result"
    }
   ],
   "source": [
    "Car[\"car_Brand\"]=y[1]\n",
    "Car['Year']=y[0]\n",
    "Car"
   ]
  },
  {
   "cell_type": "code",
   "execution_count": 5,
   "id": "069f39b1",
   "metadata": {},
   "outputs": [
    {
     "data": {
      "text/html": [
       "<div>\n",
       "<style scoped>\n",
       "    .dataframe tbody tr th:only-of-type {\n",
       "        vertical-align: middle;\n",
       "    }\n",
       "\n",
       "    .dataframe tbody tr th {\n",
       "        vertical-align: top;\n",
       "    }\n",
       "\n",
       "    .dataframe thead th {\n",
       "        text-align: right;\n",
       "    }\n",
       "</style>\n",
       "<table border=\"1\" class=\"dataframe\">\n",
       "  <thead>\n",
       "    <tr style=\"text-align: right;\">\n",
       "      <th></th>\n",
       "      <th>Unnamed: 0</th>\n",
       "      <th>car_Brand</th>\n",
       "      <th>car_owner</th>\n",
       "      <th>car_kilometers</th>\n",
       "      <th>car_fuel_type</th>\n",
       "      <th>car_transmission</th>\n",
       "      <th>car_model</th>\n",
       "      <th>car_price</th>\n",
       "      <th>Year</th>\n",
       "    </tr>\n",
       "  </thead>\n",
       "  <tbody>\n",
       "    <tr>\n",
       "      <th>0</th>\n",
       "      <td>0</td>\n",
       "      <td>Maruti Baleno</td>\n",
       "      <td>1st Owner</td>\n",
       "      <td>3,920 km</td>\n",
       "      <td>Petrol</td>\n",
       "      <td>Manual</td>\n",
       "      <td>DELTA 1.2 K12</td>\n",
       "      <td>₹6,45,199</td>\n",
       "      <td>2020</td>\n",
       "    </tr>\n",
       "    <tr>\n",
       "      <th>1</th>\n",
       "      <td>1</td>\n",
       "      <td>Maruti Baleno</td>\n",
       "      <td>1st Owner</td>\n",
       "      <td>5,645 km</td>\n",
       "      <td>Petrol</td>\n",
       "      <td>Manual</td>\n",
       "      <td>SIGMA 1.2 K12</td>\n",
       "      <td>₹5,74,999</td>\n",
       "      <td>2020</td>\n",
       "    </tr>\n",
       "    <tr>\n",
       "      <th>2</th>\n",
       "      <td>2</td>\n",
       "      <td>Maruti Alto 800</td>\n",
       "      <td>1st Owner</td>\n",
       "      <td>12,535 km</td>\n",
       "      <td>Petrol</td>\n",
       "      <td>Manual</td>\n",
       "      <td>VXI</td>\n",
       "      <td>₹2,93,599</td>\n",
       "      <td>2014</td>\n",
       "    </tr>\n",
       "    <tr>\n",
       "      <th>3</th>\n",
       "      <td>3</td>\n",
       "      <td>Renault TRIBER</td>\n",
       "      <td>1st Owner</td>\n",
       "      <td>7,704 km</td>\n",
       "      <td>Petrol</td>\n",
       "      <td>Manual</td>\n",
       "      <td>1.0 RXL PETROL</td>\n",
       "      <td>₹4,73,499</td>\n",
       "      <td>2019</td>\n",
       "    </tr>\n",
       "    <tr>\n",
       "      <th>4</th>\n",
       "      <td>4</td>\n",
       "      <td>Hyundai VENUE</td>\n",
       "      <td>1st Owner</td>\n",
       "      <td>2,589 km</td>\n",
       "      <td>Petrol</td>\n",
       "      <td>NaN</td>\n",
       "      <td>S MT 1.2 KAPPA</td>\n",
       "      <td>₹7,94,699</td>\n",
       "      <td>2021</td>\n",
       "    </tr>\n",
       "    <tr>\n",
       "      <th>...</th>\n",
       "      <td>...</td>\n",
       "      <td>...</td>\n",
       "      <td>...</td>\n",
       "      <td>...</td>\n",
       "      <td>...</td>\n",
       "      <td>...</td>\n",
       "      <td>...</td>\n",
       "      <td>...</td>\n",
       "      <td>...</td>\n",
       "    </tr>\n",
       "    <tr>\n",
       "      <th>2794</th>\n",
       "      <td>2794</td>\n",
       "      <td>Hyundai Elite i20</td>\n",
       "      <td>1st Owner</td>\n",
       "      <td>1,29,194 km</td>\n",
       "      <td>Diesel</td>\n",
       "      <td>Manual</td>\n",
       "      <td>SPORTZ 1.4</td>\n",
       "      <td>₹5,72,499</td>\n",
       "      <td>2016</td>\n",
       "    </tr>\n",
       "    <tr>\n",
       "      <th>2795</th>\n",
       "      <td>2795</td>\n",
       "      <td>Hyundai Verna</td>\n",
       "      <td>3rd Owner</td>\n",
       "      <td>1,86,575 km</td>\n",
       "      <td>Diesel</td>\n",
       "      <td>Manual</td>\n",
       "      <td>FLUIDIC 1.6 SX CRDI</td>\n",
       "      <td>₹3,63,299</td>\n",
       "      <td>2014</td>\n",
       "    </tr>\n",
       "    <tr>\n",
       "      <th>2796</th>\n",
       "      <td>2796</td>\n",
       "      <td>Maruti Baleno</td>\n",
       "      <td>1st Owner</td>\n",
       "      <td>10,126 km</td>\n",
       "      <td>Petrol</td>\n",
       "      <td>Manual</td>\n",
       "      <td>DELTA 1.2 K12</td>\n",
       "      <td>₹6,45,799</td>\n",
       "      <td>2020</td>\n",
       "    </tr>\n",
       "    <tr>\n",
       "      <th>2797</th>\n",
       "      <td>2797</td>\n",
       "      <td>Hyundai i20</td>\n",
       "      <td>2nd Owner</td>\n",
       "      <td>61,798 km</td>\n",
       "      <td>Petrol</td>\n",
       "      <td>Manual</td>\n",
       "      <td>ASTA 1.2</td>\n",
       "      <td>₹2,30,699</td>\n",
       "      <td>2011</td>\n",
       "    </tr>\n",
       "    <tr>\n",
       "      <th>2798</th>\n",
       "      <td>2798</td>\n",
       "      <td>Mitsubishi Pajero Sport</td>\n",
       "      <td>1st Owner</td>\n",
       "      <td>1,40,976 km</td>\n",
       "      <td>Diesel</td>\n",
       "      <td>Automatic</td>\n",
       "      <td>2.5 MT 4X4 Automatic</td>\n",
       "      <td>₹5,56,599</td>\n",
       "      <td>2012</td>\n",
       "    </tr>\n",
       "  </tbody>\n",
       "</table>\n",
       "<p>2799 rows × 9 columns</p>\n",
       "</div>"
      ],
      "text/plain": [
       "      Unnamed: 0                car_Brand  car_owner car_kilometers  \\\n",
       "0              0            Maruti Baleno  1st Owner       3,920 km   \n",
       "1              1            Maruti Baleno  1st Owner       5,645 km   \n",
       "2              2          Maruti Alto 800  1st Owner      12,535 km   \n",
       "3              3           Renault TRIBER  1st Owner       7,704 km   \n",
       "4              4            Hyundai VENUE  1st Owner       2,589 km   \n",
       "...          ...                      ...        ...            ...   \n",
       "2794        2794        Hyundai Elite i20  1st Owner    1,29,194 km   \n",
       "2795        2795            Hyundai Verna  3rd Owner    1,86,575 km   \n",
       "2796        2796            Maruti Baleno  1st Owner      10,126 km   \n",
       "2797        2797              Hyundai i20  2nd Owner      61,798 km   \n",
       "2798        2798  Mitsubishi Pajero Sport  1st Owner    1,40,976 km   \n",
       "\n",
       "     car_fuel_type car_transmission             car_model  car_price  Year  \n",
       "0           Petrol           Manual        DELTA 1.2 K12   ₹6,45,199  2020  \n",
       "1           Petrol           Manual        SIGMA 1.2 K12   ₹5,74,999  2020  \n",
       "2           Petrol           Manual                  VXI   ₹2,93,599  2014  \n",
       "3           Petrol           Manual       1.0 RXL PETROL   ₹4,73,499  2019  \n",
       "4           Petrol              NaN        S MT 1.2 KAPPA  ₹7,94,699  2021  \n",
       "...            ...              ...                   ...        ...   ...  \n",
       "2794        Diesel           Manual           SPORTZ 1.4   ₹5,72,499  2016  \n",
       "2795        Diesel           Manual  FLUIDIC 1.6 SX CRDI   ₹3,63,299  2014  \n",
       "2796        Petrol           Manual        DELTA 1.2 K12   ₹6,45,799  2020  \n",
       "2797        Petrol           Manual             ASTA 1.2   ₹2,30,699  2011  \n",
       "2798        Diesel        Automatic  2.5 MT 4X4 Automatic  ₹5,56,599  2012  \n",
       "\n",
       "[2799 rows x 9 columns]"
      ]
     },
     "execution_count": 5,
     "metadata": {},
     "output_type": "execute_result"
    }
   ],
   "source": [
    "m = Car['car_model'].str.split(\"Manual\", n = 3, expand = True)\n",
    "Car['car_model']=m[0]\n",
    "Car"
   ]
  },
  {
   "cell_type": "code",
   "execution_count": 6,
   "id": "40dd0160",
   "metadata": {},
   "outputs": [],
   "source": [
    "Car['car_owner']= pd.get_dummies(Car[['car_owner']], drop_first=True)\n",
    "Car['car_fuel_type']= pd.get_dummies(Car[['car_fuel_type']], drop_first=True)\n",
    "Car['car_transmission']= pd.get_dummies(Car[['car_transmission']], drop_first=True)"
   ]
  },
  {
   "cell_type": "code",
   "execution_count": 7,
   "id": "1c9692fa",
   "metadata": {},
   "outputs": [],
   "source": [
    "Car['car_kilometers']=Car['car_kilometers'].str.replace('km','')\n",
    "Car['car_kilometers']=Car['car_kilometers'].str.replace(',','')\n",
    "Car['car_price']=Car['car_price'].str.replace('₹','')\n",
    "Car['car_price']=Car['car_price'].str.replace(',','')"
   ]
  },
  {
   "cell_type": "code",
   "execution_count": 8,
   "id": "75abafdd",
   "metadata": {},
   "outputs": [
    {
     "name": "stdout",
     "output_type": "stream",
     "text": [
      "<class 'pandas.core.frame.DataFrame'>\n",
      "RangeIndex: 2799 entries, 0 to 2798\n",
      "Data columns (total 9 columns):\n",
      " #   Column            Non-Null Count  Dtype \n",
      "---  ------            --------------  ----- \n",
      " 0   Unnamed: 0        2799 non-null   int64 \n",
      " 1   car_Brand         2799 non-null   object\n",
      " 2   car_owner         2799 non-null   uint8 \n",
      " 3   car_kilometers    2799 non-null   object\n",
      " 4   car_fuel_type     2799 non-null   uint8 \n",
      " 5   car_transmission  2799 non-null   uint8 \n",
      " 6   car_model         2799 non-null   object\n",
      " 7   car_price         2799 non-null   object\n",
      " 8   Year              2799 non-null   object\n",
      "dtypes: int64(1), object(5), uint8(3)\n",
      "memory usage: 139.5+ KB\n"
     ]
    }
   ],
   "source": [
    "Car.info()"
   ]
  },
  {
   "cell_type": "code",
   "execution_count": 9,
   "id": "26cdb2fa",
   "metadata": {},
   "outputs": [],
   "source": [
    "Car['Year']=Car['Year'].astype(int)\n",
    "Car['car_owner']=Car['car_owner'].astype(int)\n",
    "Car['car_price']=Car['car_price'].astype(int)\n",
    "Car['car_kilometers']=Car['car_kilometers'].astype(int)"
   ]
  },
  {
   "cell_type": "code",
   "execution_count": 10,
   "id": "4f61d940",
   "metadata": {},
   "outputs": [
    {
     "data": {
      "text/plain": [
       "148"
      ]
     },
     "execution_count": 10,
     "metadata": {},
     "output_type": "execute_result"
    }
   ],
   "source": [
    "len(Car.car_Brand.value_counts())"
   ]
  },
  {
   "cell_type": "code",
   "execution_count": 11,
   "id": "63fd4ed7",
   "metadata": {},
   "outputs": [
    {
     "data": {
      "text/plain": [
       "Maruti Swift               292\n",
       "Maruti Swift Dzire         164\n",
       "Maruti Vitara Brezza       130\n",
       "Hyundai Grand i10          118\n",
       "Maruti Baleno              112\n",
       "                          ... \n",
       "Tata Xenon XT                1\n",
       "Tata Safari Storme           1\n",
       "Toyota Corolla               1\n",
       "Mitsubishi Pajero Sport      1\n",
       "Jaguar XF                    1\n",
       "Name: car_Brand, Length: 148, dtype: int64"
      ]
     },
     "execution_count": 11,
     "metadata": {},
     "output_type": "execute_result"
    }
   ],
   "source": [
    "Car.car_Brand.value_counts()"
   ]
  },
  {
   "cell_type": "code",
   "execution_count": 12,
   "id": "562cbd95",
   "metadata": {},
   "outputs": [
    {
     "data": {
      "text/html": [
       "<div>\n",
       "<style scoped>\n",
       "    .dataframe tbody tr th:only-of-type {\n",
       "        vertical-align: middle;\n",
       "    }\n",
       "\n",
       "    .dataframe tbody tr th {\n",
       "        vertical-align: top;\n",
       "    }\n",
       "\n",
       "    .dataframe thead th {\n",
       "        text-align: right;\n",
       "    }\n",
       "</style>\n",
       "<table border=\"1\" class=\"dataframe\">\n",
       "  <thead>\n",
       "    <tr style=\"text-align: right;\">\n",
       "      <th></th>\n",
       "      <th>Unnamed: 0</th>\n",
       "      <th>car_Brand</th>\n",
       "      <th>car_owner</th>\n",
       "      <th>car_kilometers</th>\n",
       "      <th>car_fuel_type</th>\n",
       "      <th>car_transmission</th>\n",
       "      <th>car_model</th>\n",
       "      <th>car_price</th>\n",
       "      <th>Year</th>\n",
       "    </tr>\n",
       "  </thead>\n",
       "  <tbody>\n",
       "    <tr>\n",
       "      <th>0</th>\n",
       "      <td>0</td>\n",
       "      <td>Maruti Baleno</td>\n",
       "      <td>0</td>\n",
       "      <td>3920</td>\n",
       "      <td>1</td>\n",
       "      <td>1</td>\n",
       "      <td>DELTA 1.2 K12</td>\n",
       "      <td>645199</td>\n",
       "      <td>2020</td>\n",
       "    </tr>\n",
       "    <tr>\n",
       "      <th>1</th>\n",
       "      <td>1</td>\n",
       "      <td>Maruti Baleno</td>\n",
       "      <td>0</td>\n",
       "      <td>5645</td>\n",
       "      <td>1</td>\n",
       "      <td>1</td>\n",
       "      <td>SIGMA 1.2 K12</td>\n",
       "      <td>574999</td>\n",
       "      <td>2020</td>\n",
       "    </tr>\n",
       "    <tr>\n",
       "      <th>2</th>\n",
       "      <td>2</td>\n",
       "      <td>Maruti Alto 800</td>\n",
       "      <td>0</td>\n",
       "      <td>12535</td>\n",
       "      <td>1</td>\n",
       "      <td>1</td>\n",
       "      <td>VXI</td>\n",
       "      <td>293599</td>\n",
       "      <td>2014</td>\n",
       "    </tr>\n",
       "    <tr>\n",
       "      <th>3</th>\n",
       "      <td>3</td>\n",
       "      <td>Renault TRIBER</td>\n",
       "      <td>0</td>\n",
       "      <td>7704</td>\n",
       "      <td>1</td>\n",
       "      <td>1</td>\n",
       "      <td>1.0 RXL PETROL</td>\n",
       "      <td>473499</td>\n",
       "      <td>2019</td>\n",
       "    </tr>\n",
       "    <tr>\n",
       "      <th>4</th>\n",
       "      <td>4</td>\n",
       "      <td>Hyundai VENUE</td>\n",
       "      <td>0</td>\n",
       "      <td>2589</td>\n",
       "      <td>1</td>\n",
       "      <td>0</td>\n",
       "      <td>S MT 1.2 KAPPA</td>\n",
       "      <td>794699</td>\n",
       "      <td>2021</td>\n",
       "    </tr>\n",
       "    <tr>\n",
       "      <th>...</th>\n",
       "      <td>...</td>\n",
       "      <td>...</td>\n",
       "      <td>...</td>\n",
       "      <td>...</td>\n",
       "      <td>...</td>\n",
       "      <td>...</td>\n",
       "      <td>...</td>\n",
       "      <td>...</td>\n",
       "      <td>...</td>\n",
       "    </tr>\n",
       "    <tr>\n",
       "      <th>2794</th>\n",
       "      <td>2794</td>\n",
       "      <td>Hyundai Elite i20</td>\n",
       "      <td>0</td>\n",
       "      <td>129194</td>\n",
       "      <td>0</td>\n",
       "      <td>1</td>\n",
       "      <td>SPORTZ 1.4</td>\n",
       "      <td>572499</td>\n",
       "      <td>2016</td>\n",
       "    </tr>\n",
       "    <tr>\n",
       "      <th>2795</th>\n",
       "      <td>2795</td>\n",
       "      <td>Hyundai Verna</td>\n",
       "      <td>0</td>\n",
       "      <td>186575</td>\n",
       "      <td>0</td>\n",
       "      <td>1</td>\n",
       "      <td>FLUIDIC 1.6 SX CRDI</td>\n",
       "      <td>363299</td>\n",
       "      <td>2014</td>\n",
       "    </tr>\n",
       "    <tr>\n",
       "      <th>2796</th>\n",
       "      <td>2796</td>\n",
       "      <td>Maruti Baleno</td>\n",
       "      <td>0</td>\n",
       "      <td>10126</td>\n",
       "      <td>1</td>\n",
       "      <td>1</td>\n",
       "      <td>DELTA 1.2 K12</td>\n",
       "      <td>645799</td>\n",
       "      <td>2020</td>\n",
       "    </tr>\n",
       "    <tr>\n",
       "      <th>2797</th>\n",
       "      <td>2797</td>\n",
       "      <td>Hyundai i20</td>\n",
       "      <td>1</td>\n",
       "      <td>61798</td>\n",
       "      <td>1</td>\n",
       "      <td>1</td>\n",
       "      <td>ASTA 1.2</td>\n",
       "      <td>230699</td>\n",
       "      <td>2011</td>\n",
       "    </tr>\n",
       "    <tr>\n",
       "      <th>2798</th>\n",
       "      <td>2798</td>\n",
       "      <td>Mitsubishi Pajero Sport</td>\n",
       "      <td>0</td>\n",
       "      <td>140976</td>\n",
       "      <td>0</td>\n",
       "      <td>0</td>\n",
       "      <td>2.5 MT 4X4 Automatic</td>\n",
       "      <td>556599</td>\n",
       "      <td>2012</td>\n",
       "    </tr>\n",
       "  </tbody>\n",
       "</table>\n",
       "<p>2799 rows × 9 columns</p>\n",
       "</div>"
      ],
      "text/plain": [
       "      Unnamed: 0                car_Brand  car_owner  car_kilometers  \\\n",
       "0              0            Maruti Baleno          0            3920   \n",
       "1              1            Maruti Baleno          0            5645   \n",
       "2              2          Maruti Alto 800          0           12535   \n",
       "3              3           Renault TRIBER          0            7704   \n",
       "4              4            Hyundai VENUE          0            2589   \n",
       "...          ...                      ...        ...             ...   \n",
       "2794        2794        Hyundai Elite i20          0          129194   \n",
       "2795        2795            Hyundai Verna          0          186575   \n",
       "2796        2796            Maruti Baleno          0           10126   \n",
       "2797        2797              Hyundai i20          1           61798   \n",
       "2798        2798  Mitsubishi Pajero Sport          0          140976   \n",
       "\n",
       "      car_fuel_type  car_transmission             car_model  car_price  Year  \n",
       "0                 1                 1        DELTA 1.2 K12      645199  2020  \n",
       "1                 1                 1        SIGMA 1.2 K12      574999  2020  \n",
       "2                 1                 1                  VXI      293599  2014  \n",
       "3                 1                 1       1.0 RXL PETROL      473499  2019  \n",
       "4                 1                 0        S MT 1.2 KAPPA     794699  2021  \n",
       "...             ...               ...                   ...        ...   ...  \n",
       "2794              0                 1           SPORTZ 1.4      572499  2016  \n",
       "2795              0                 1  FLUIDIC 1.6 SX CRDI      363299  2014  \n",
       "2796              1                 1        DELTA 1.2 K12      645799  2020  \n",
       "2797              1                 1             ASTA 1.2      230699  2011  \n",
       "2798              0                 0  2.5 MT 4X4 Automatic     556599  2012  \n",
       "\n",
       "[2799 rows x 9 columns]"
      ]
     },
     "execution_count": 12,
     "metadata": {},
     "output_type": "execute_result"
    }
   ],
   "source": [
    "Car"
   ]
  },
  {
   "cell_type": "code",
   "execution_count": 13,
   "id": "2e642e3d",
   "metadata": {},
   "outputs": [
    {
     "data": {
      "text/plain": [
       "Unnamed: 0          0\n",
       "car_Brand           0\n",
       "car_owner           0\n",
       "car_kilometers      0\n",
       "car_fuel_type       0\n",
       "car_transmission    0\n",
       "car_model           0\n",
       "car_price           0\n",
       "Year                0\n",
       "dtype: int64"
      ]
     },
     "execution_count": 13,
     "metadata": {},
     "output_type": "execute_result"
    }
   ],
   "source": [
    "Car.isnull().sum()"
   ]
  },
  {
   "cell_type": "code",
   "execution_count": 14,
   "id": "20edc5ca",
   "metadata": {},
   "outputs": [
    {
     "data": {
      "text/plain": [
       "<AxesSubplot:>"
      ]
     },
     "execution_count": 14,
     "metadata": {},
     "output_type": "execute_result"
    },
    {
     "data": {
      "image/png": "[encoded data removed]",
      "text/plain": [
       "<Figure size 432x288 with 1 Axes>"
      ]
     },
     "metadata": {
      "needs_background": "light"
     },
     "output_type": "display_data"
    }
   ],
   "source": [
    "Car.car_price.hist()"
   ]
  },
  {
   "cell_type": "code",
   "execution_count": 15,
   "id": "9580ed7f",
   "metadata": {},
   "outputs": [
    {
     "data": {
      "text/plain": [
       "(array([  9.,  84., 403., 982., 779., 389., 112.,  34.,   6.,   1.]),\n",
       " array([11.09742517, 11.55641394, 12.01540272, 12.47439149, 12.93338026,\n",
       "        13.39236903, 13.8513578 , 14.31034657, 14.76933535, 15.22832412,\n",
       "        15.68731289]),\n",
       " <BarContainer object of 10 artists>)"
      ]
     },
     "execution_count": 15,
     "metadata": {},
     "output_type": "execute_result"
    },
    {
     "data": {
      "image/png": "[encoded data removed]",
      "text/plain": [
       "<Figure size 432x288 with 1 Axes>"
      ]
     },
     "metadata": {
      "needs_background": "light"
     },
     "output_type": "display_data"
    }
   ],
   "source": [
    "import numpy as np\n",
    "import matplotlib.pyplot as plt\n",
    "plt.hist(np.log1p(Car[\"car_price\"]))"
   ]
  },
  {
   "cell_type": "code",
   "execution_count": 16,
   "id": "3653b0d0",
   "metadata": {},
   "outputs": [
    {
     "data": {
      "text/plain": [
       "<AxesSubplot:>"
      ]
     },
     "execution_count": 16,
     "metadata": {},
     "output_type": "execute_result"
    },
    {
     "data": {
      "image/png": "[encoded data removed]",
      "text/plain": [
       "<Figure size 432x288 with 1 Axes>"
      ]
     },
     "metadata": {
      "needs_background": "light"
     },
     "output_type": "display_data"
    }
   ],
   "source": [
    "Car.Year.hist()"
   ]
  },
  {
   "cell_type": "code",
   "execution_count": 17,
   "id": "f5385653",
   "metadata": {},
   "outputs": [],
   "source": [
    "Car[\"car_Brand\"] = Car[\"car_Brand\"].apply(lambda x: x.split(\" \")[0])"
   ]
  },
  {
   "cell_type": "code",
   "execution_count": 18,
   "id": "70594ab8",
   "metadata": {},
   "outputs": [
    {
     "name": "stdout",
     "output_type": "stream",
     "text": [
      "Maruti        1304\n",
      "Hyundai        571\n",
      "Honda          224\n",
      "Toyota         160\n",
      "Renault        106\n",
      "Ford            95\n",
      "Mahindra        95\n",
      "Volkswagen      65\n",
      "Tata            41\n",
      "Chevrolet       19\n",
      "Nissan          15\n",
      "BMW             15\n",
      "Audi            15\n",
      "Skoda           14\n",
      "Mercedes        14\n",
      "Datsun          13\n",
      "KIA             10\n",
      "Fiat             6\n",
      "MG               4\n",
      "HYUNDAI          3\n",
      "Jeep             2\n",
      "Ssangyong        2\n",
      "Volvo            2\n",
      "Mitsubishi       1\n",
      "Jaguar           1\n",
      "ISUZU            1\n",
      "Landrover        1\n",
      "Name: car_Brand, dtype: int64\n",
      "27\n"
     ]
    }
   ],
   "source": [
    "print(Car.car_Brand.value_counts())\n",
    "print(len(Car.car_Brand.value_counts()))"
   ]
  },
  {
   "cell_type": "code",
   "execution_count": 19,
   "id": "db3c10b2",
   "metadata": {},
   "outputs": [
    {
     "name": "stdout",
     "output_type": "stream",
     "text": [
      "VDI       369\n",
      "VXI       322\n",
      "LXI       249\n",
      "MAGNA     140\n",
      "SPORTZ    113\n",
      "         ... \n",
      "magna       1\n",
      "1.3         1\n",
      "XZA+        1\n",
      "Sportz      1\n",
      "250         1\n",
      "Name: car_model, Length: 178, dtype: int64\n",
      "178\n"
     ]
    }
   ],
   "source": [
    "Car[\"car_model\"] = Car[\"car_model\"].apply(lambda x: x.split(\" \")[0])\n",
    "\n",
    "print(Car[\"car_model\"].value_counts())\n",
    "print(len(Car[\"car_model\"].value_counts()))"
   ]
  },
  {
   "cell_type": "code",
   "execution_count": 20,
   "id": "4d100f54",
   "metadata": {},
   "outputs": [],
   "source": [
    "from sklearn.preprocessing import LabelEncoder\n",
    "le=LabelEncoder()"
   ]
  },
  {
   "cell_type": "code",
   "execution_count": 21,
   "id": "66ea1448",
   "metadata": {},
   "outputs": [
    {
     "data": {
      "text/plain": [
       "0       16\n",
       "1       16\n",
       "2       16\n",
       "3       20\n",
       "4        8\n",
       "        ..\n",
       "2794     8\n",
       "2795     8\n",
       "2796    16\n",
       "2797     8\n",
       "2798    18\n",
       "Name: car_Brand, Length: 2799, dtype: int32"
      ]
     },
     "execution_count": 21,
     "metadata": {},
     "output_type": "execute_result"
    }
   ],
   "source": [
    "Car[\"car_Brand\"] = le.fit_transform(Car[\"car_Brand\"])\n",
    "Car[\"car_Brand\"]"
   ]
  },
  {
   "cell_type": "code",
   "execution_count": 22,
   "id": "bacf0eee",
   "metadata": {},
   "outputs": [],
   "source": [
    "Car['car_model']=Car['car_model'].astype(str)"
   ]
  },
  {
   "cell_type": "code",
   "execution_count": 23,
   "id": "12ba7ebe",
   "metadata": {},
   "outputs": [
    {
     "data": {
      "text/plain": [
       "str"
      ]
     },
     "execution_count": 23,
     "metadata": {},
     "output_type": "execute_result"
    }
   ],
   "source": [
    "type(Car['car_model'][3])"
   ]
  },
  {
   "cell_type": "code",
   "execution_count": 24,
   "id": "f1a01b5d",
   "metadata": {},
   "outputs": [
    {
     "ename": "ValueError",
     "evalue": "y contains previously unseen labels: 'DELTA'",
     "output_type": "error",
     "traceback": [
      "\u001b[1;31m---------------------------------------------------------------------------\u001b[0m",
      "\u001b[1;31mKeyError\u001b[0m                                  Traceback (most recent call last)",
      "\u001b[1;32m~\\anaconda3\\lib\\site-packages\\sklearn\\utils\\_encode.py\u001b[0m in \u001b[0;36m_encode\u001b[1;34m(values, uniques, check_unknown)\u001b[0m\n\u001b[0;32m    177\u001b[0m         \u001b[1;32mtry\u001b[0m\u001b[1;33m:\u001b[0m\u001b[1;33m\u001b[0m\u001b[1;33m\u001b[0m\u001b[0m\n\u001b[1;32m--> 178\u001b[1;33m             \u001b[1;32mreturn\u001b[0m \u001b[0m_map_to_integer\u001b[0m\u001b[1;33m(\u001b[0m\u001b[0mvalues\u001b[0m\u001b[1;33m,\u001b[0m \u001b[0muniques\u001b[0m\u001b[1;33m)\u001b[0m\u001b[1;33m\u001b[0m\u001b[1;33m\u001b[0m\u001b[0m\n\u001b[0m\u001b[0;32m    179\u001b[0m         \u001b[1;32mexcept\u001b[0m \u001b[0mKeyError\u001b[0m \u001b[1;32mas\u001b[0m \u001b[0me\u001b[0m\u001b[1;33m:\u001b[0m\u001b[1;33m\u001b[0m\u001b[1;33m\u001b[0m\u001b[0m\n",
      "\u001b[1;32m~\\anaconda3\\lib\\site-packages\\sklearn\\utils\\_encode.py\u001b[0m in \u001b[0;36m_map_to_integer\u001b[1;34m(values, uniques)\u001b[0m\n\u001b[0;32m    122\u001b[0m     \u001b[0mtable\u001b[0m \u001b[1;33m=\u001b[0m \u001b[0m_nandict\u001b[0m\u001b[1;33m(\u001b[0m\u001b[1;33m{\u001b[0m\u001b[0mval\u001b[0m\u001b[1;33m:\u001b[0m \u001b[0mi\u001b[0m \u001b[1;32mfor\u001b[0m \u001b[0mi\u001b[0m\u001b[1;33m,\u001b[0m \u001b[0mval\u001b[0m \u001b[1;32min\u001b[0m \u001b[0menumerate\u001b[0m\u001b[1;33m(\u001b[0m\u001b[0muniques\u001b[0m\u001b[1;33m)\u001b[0m\u001b[1;33m}\u001b[0m\u001b[1;33m)\u001b[0m\u001b[1;33m\u001b[0m\u001b[1;33m\u001b[0m\u001b[0m\n\u001b[1;32m--> 123\u001b[1;33m     \u001b[1;32mreturn\u001b[0m \u001b[0mnp\u001b[0m\u001b[1;33m.\u001b[0m\u001b[0marray\u001b[0m\u001b[1;33m(\u001b[0m\u001b[1;33m[\u001b[0m\u001b[0mtable\u001b[0m\u001b[1;33m[\u001b[0m\u001b[0mv\u001b[0m\u001b[1;33m]\u001b[0m \u001b[1;32mfor\u001b[0m \u001b[0mv\u001b[0m \u001b[1;32min\u001b[0m \u001b[0mvalues\u001b[0m\u001b[1;33m]\u001b[0m\u001b[1;33m)\u001b[0m\u001b[1;33m\u001b[0m\u001b[1;33m\u001b[0m\u001b[0m\n\u001b[0m\u001b[0;32m    124\u001b[0m \u001b[1;33m\u001b[0m\u001b[0m\n",
      "\u001b[1;32m~\\anaconda3\\lib\\site-packages\\sklearn\\utils\\_encode.py\u001b[0m in \u001b[0;36m<listcomp>\u001b[1;34m(.0)\u001b[0m\n\u001b[0;32m    122\u001b[0m     \u001b[0mtable\u001b[0m \u001b[1;33m=\u001b[0m \u001b[0m_nandict\u001b[0m\u001b[1;33m(\u001b[0m\u001b[1;33m{\u001b[0m\u001b[0mval\u001b[0m\u001b[1;33m:\u001b[0m \u001b[0mi\u001b[0m \u001b[1;32mfor\u001b[0m \u001b[0mi\u001b[0m\u001b[1;33m,\u001b[0m \u001b[0mval\u001b[0m \u001b[1;32min\u001b[0m \u001b[0menumerate\u001b[0m\u001b[1;33m(\u001b[0m\u001b[0muniques\u001b[0m\u001b[1;33m)\u001b[0m\u001b[1;33m}\u001b[0m\u001b[1;33m)\u001b[0m\u001b[1;33m\u001b[0m\u001b[1;33m\u001b[0m\u001b[0m\n\u001b[1;32m--> 123\u001b[1;33m     \u001b[1;32mreturn\u001b[0m \u001b[0mnp\u001b[0m\u001b[1;33m.\u001b[0m\u001b[0marray\u001b[0m\u001b[1;33m(\u001b[0m\u001b[1;33m[\u001b[0m\u001b[0mtable\u001b[0m\u001b[1;33m[\u001b[0m\u001b[0mv\u001b[0m\u001b[1;33m]\u001b[0m \u001b[1;32mfor\u001b[0m \u001b[0mv\u001b[0m \u001b[1;32min\u001b[0m \u001b[0mvalues\u001b[0m\u001b[1;33m]\u001b[0m\u001b[1;33m)\u001b[0m\u001b[1;33m\u001b[0m\u001b[1;33m\u001b[0m\u001b[0m\n\u001b[0m\u001b[0;32m    124\u001b[0m \u001b[1;33m\u001b[0m\u001b[0m\n",
      "\u001b[1;32m~\\anaconda3\\lib\\site-packages\\sklearn\\utils\\_encode.py\u001b[0m in \u001b[0;36m__missing__\u001b[1;34m(self, key)\u001b[0m\n\u001b[0;32m    116\u001b[0m             \u001b[1;32mreturn\u001b[0m \u001b[0mself\u001b[0m\u001b[1;33m.\u001b[0m\u001b[0mnan_value\u001b[0m\u001b[1;33m\u001b[0m\u001b[1;33m\u001b[0m\u001b[0m\n\u001b[1;32m--> 117\u001b[1;33m         \u001b[1;32mraise\u001b[0m \u001b[0mKeyError\u001b[0m\u001b[1;33m(\u001b[0m\u001b[0mkey\u001b[0m\u001b[1;33m)\u001b[0m\u001b[1;33m\u001b[0m\u001b[1;33m\u001b[0m\u001b[0m\n\u001b[0m\u001b[0;32m    118\u001b[0m \u001b[1;33m\u001b[0m\u001b[0m\n",
      "\u001b[1;31mKeyError\u001b[0m: 'DELTA'",
      "\nDuring handling of the above exception, another exception occurred:\n",
      "\u001b[1;31mValueError\u001b[0m                                Traceback (most recent call last)",
      "\u001b[1;32m<ipython-input-24-4d55375933f8>\u001b[0m in \u001b[0;36m<module>\u001b[1;34m\u001b[0m\n\u001b[1;32m----> 1\u001b[1;33m \u001b[0mCar\u001b[0m\u001b[1;33m[\u001b[0m\u001b[1;34m\"car_model\"\u001b[0m\u001b[1;33m]\u001b[0m \u001b[1;33m=\u001b[0m \u001b[0mle\u001b[0m\u001b[1;33m.\u001b[0m\u001b[0mtransform\u001b[0m\u001b[1;33m(\u001b[0m\u001b[0mCar\u001b[0m\u001b[1;33m[\u001b[0m\u001b[1;34m\"car_model\"\u001b[0m\u001b[1;33m]\u001b[0m\u001b[1;33m)\u001b[0m\u001b[1;33m\u001b[0m\u001b[1;33m\u001b[0m\u001b[0m\n\u001b[0m",
      "\u001b[1;32m~\\anaconda3\\lib\\site-packages\\sklearn\\preprocessing\\_label.py\u001b[0m in \u001b[0;36mtransform\u001b[1;34m(self, y)\u001b[0m\n\u001b[0;32m    136\u001b[0m             \u001b[1;32mreturn\u001b[0m \u001b[0mnp\u001b[0m\u001b[1;33m.\u001b[0m\u001b[0marray\u001b[0m\u001b[1;33m(\u001b[0m\u001b[1;33m[\u001b[0m\u001b[1;33m]\u001b[0m\u001b[1;33m)\u001b[0m\u001b[1;33m\u001b[0m\u001b[1;33m\u001b[0m\u001b[0m\n\u001b[0;32m    137\u001b[0m \u001b[1;33m\u001b[0m\u001b[0m\n\u001b[1;32m--> 138\u001b[1;33m         \u001b[1;32mreturn\u001b[0m \u001b[0m_encode\u001b[0m\u001b[1;33m(\u001b[0m\u001b[0my\u001b[0m\u001b[1;33m,\u001b[0m \u001b[0muniques\u001b[0m\u001b[1;33m=\u001b[0m\u001b[0mself\u001b[0m\u001b[1;33m.\u001b[0m\u001b[0mclasses_\u001b[0m\u001b[1;33m)\u001b[0m\u001b[1;33m\u001b[0m\u001b[1;33m\u001b[0m\u001b[0m\n\u001b[0m\u001b[0;32m    139\u001b[0m \u001b[1;33m\u001b[0m\u001b[0m\n\u001b[0;32m    140\u001b[0m     \u001b[1;32mdef\u001b[0m \u001b[0minverse_transform\u001b[0m\u001b[1;33m(\u001b[0m\u001b[0mself\u001b[0m\u001b[1;33m,\u001b[0m \u001b[0my\u001b[0m\u001b[1;33m)\u001b[0m\u001b[1;33m:\u001b[0m\u001b[1;33m\u001b[0m\u001b[1;33m\u001b[0m\u001b[0m\n",
      "\u001b[1;32m~\\anaconda3\\lib\\site-packages\\sklearn\\utils\\_encode.py\u001b[0m in \u001b[0;36m_encode\u001b[1;34m(values, uniques, check_unknown)\u001b[0m\n\u001b[0;32m    178\u001b[0m             \u001b[1;32mreturn\u001b[0m \u001b[0m_map_to_integer\u001b[0m\u001b[1;33m(\u001b[0m\u001b[0mvalues\u001b[0m\u001b[1;33m,\u001b[0m \u001b[0muniques\u001b[0m\u001b[1;33m)\u001b[0m\u001b[1;33m\u001b[0m\u001b[1;33m\u001b[0m\u001b[0m\n\u001b[0;32m    179\u001b[0m         \u001b[1;32mexcept\u001b[0m \u001b[0mKeyError\u001b[0m \u001b[1;32mas\u001b[0m \u001b[0me\u001b[0m\u001b[1;33m:\u001b[0m\u001b[1;33m\u001b[0m\u001b[1;33m\u001b[0m\u001b[0m\n\u001b[1;32m--> 180\u001b[1;33m             \u001b[1;32mraise\u001b[0m \u001b[0mValueError\u001b[0m\u001b[1;33m(\u001b[0m\u001b[1;34mf\"y contains previously unseen labels: {str(e)}\"\u001b[0m\u001b[1;33m)\u001b[0m\u001b[1;33m\u001b[0m\u001b[1;33m\u001b[0m\u001b[0m\n\u001b[0m\u001b[0;32m    181\u001b[0m     \u001b[1;32melse\u001b[0m\u001b[1;33m:\u001b[0m\u001b[1;33m\u001b[0m\u001b[1;33m\u001b[0m\u001b[0m\n\u001b[0;32m    182\u001b[0m         \u001b[1;32mif\u001b[0m \u001b[0mcheck_unknown\u001b[0m\u001b[1;33m:\u001b[0m\u001b[1;33m\u001b[0m\u001b[1;33m\u001b[0m\u001b[0m\n",
      "\u001b[1;31mValueError\u001b[0m: y contains previously unseen labels: 'DELTA'"
     ]
    }
   ],
   "source": [
    "Car[\"car_model\"] = le.transform(Car[\"car_model\"])"
   ]
  },
  {
   "cell_type": "code",
   "execution_count": null,
   "id": "d7622f43",
   "metadata": {},
   "outputs": [],
   "source": []
  }
 ],
 "metadata": {
  "kernelspec": {
   "display_name": "Python 3",
   "language": "python",
   "name": "python3"
  },
  "language_info": {
   "codemirror_mode": {
    "name": "ipython",
    "version": 3
   },
   "file_extension": ".py",
   "mimetype": "text/x-python",
   "name": "python",
   "nbconvert_exporter": "python",
   "pygments_lexer": "ipython3",
   "version": "3.8.8"
  }
 },
 "nbformat": 4,
 "nbformat_minor": 5
}

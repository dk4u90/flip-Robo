{
 "cells": [
  {
   "cell_type": "code",
   "execution_count": 54,
   "id": "566da971",
   "metadata": {},
   "outputs": [],
   "source": [
    "import selenium\n",
    "import pandas as pd\n",
    "from selenium import webdriver\n",
    "import time\n",
    "from selenium.common.exceptions import StaleElementReferenceException, NoSuchElementException"
   ]
  },
  {
   "cell_type": "code",
   "execution_count": 55,
   "id": "d1cb3fa7",
   "metadata": {},
   "outputs": [],
   "source": [
    "driver = webdriver.Chrome('chromedriver.exe')\n",
    "driver.get('https://www.hostelworld.com/')"
   ]
  },
  {
   "cell_type": "code",
   "execution_count": 60,
   "id": "f8849db9",
   "metadata": {},
   "outputs": [],
   "source": [
    "driver.find_element_by_id(\"search-input-field\").send_keys('London')\n"
   ]
  },
  {
   "cell_type": "code",
   "execution_count": 61,
   "id": "707d555c",
   "metadata": {},
   "outputs": [],
   "source": [
    "driver.find_element_by_xpath(\"//div[@class='location']/ul/li/div\").click()"
   ]
  },
  {
   "cell_type": "code",
   "execution_count": 62,
   "id": "61adfa8f",
   "metadata": {},
   "outputs": [],
   "source": [
    "driver.find_element_by_xpath(\"//button[@class='button primary large']\").click()"
   ]
  },
  {
   "cell_type": "code",
   "execution_count": 63,
   "id": "459051b2",
   "metadata": {},
   "outputs": [
    {
     "data": {
      "text/plain": [
       "['https://www.hostelworld.com/pwa/hosteldetails.php/St-Christopher-s-Village/London/502?from=2021-06-27&to=2021-06-30&guests=2',\n",
       " 'https://www.hostelworld.com/pwa/hosteldetails.php/Generator-London/London/510?from=2021-06-27&to=2021-06-30&guests=2',\n",
       " 'https://www.hostelworld.com/pwa/hosteldetails.php/PubLove-The-Crown-Battersea/London/60336?from=2021-06-27&to=2021-06-30&guests=2',\n",
       " 'https://www.hostelworld.com/pwa/hosteldetails.php/Leman-House/London/299886?from=2021-06-27&to=2021-06-30&guests=2',\n",
       " 'https://www.hostelworld.com/pwa/hosteldetails.php/247london-Hostel-and-Private-Rooms/London/64523?from=2021-06-27&to=2021-06-30&guests=2',\n",
       " 'https://www.hostelworld.com/pwa/hosteldetails.php/PubLove-The-Steam-Engine-Waterloo/London/29389?from=2021-06-27&to=2021-06-30&guests=2',\n",
       " 'https://www.hostelworld.com/pwa/hosteldetails.php/The-London-Home-Hostel/London/80690?from=2021-06-27&to=2021-06-30&guests=2',\n",
       " 'https://www.hostelworld.com/pwa/hosteldetails.php/Wombat-s-The-City-Hostel-London/London/88047?from=2021-06-27&to=2021-06-30&guests=2',\n",
       " 'https://www.hostelworld.com/pwa/hosteldetails.php/Selina-Camden/London/310274?from=2021-06-27&to=2021-06-30&guests=2',\n",
       " 'https://www.hostelworld.com/pwa/hosteldetails.php/Safestay-London-Elephant-Castle/London/55551?from=2021-06-27&to=2021-06-30&guests=2',\n",
       " 'https://www.hostelworld.com/pwa/hosteldetails.php/PubLove-The-Green-Man-Paddington/London/21953?from=2021-06-27&to=2021-06-30&guests=2',\n",
       " 'https://www.hostelworld.com/pwa/hosteldetails.php/Astor-Museum-Inn/London/520?from=2021-06-27&to=2021-06-30&guests=2',\n",
       " 'https://www.hostelworld.com/pwa/hosteldetails.php/PubLove-The-White-Ferry-Victoria/London/39761?from=2021-06-27&to=2021-06-30&guests=2',\n",
       " 'https://www.hostelworld.com/pwa/hosteldetails.php/Prime-Backpackers-Angel/London/93902?from=2021-06-27&to=2021-06-30&guests=2',\n",
       " 'https://www.hostelworld.com/pwa/hosteldetails.php/Atlas-Hostels/London/79008?from=2021-06-27&to=2021-06-30&guests=2',\n",
       " 'https://www.hostelworld.com/pwa/hosteldetails.php/No-8-Willesden-Hostel-London/London/18420?from=2021-06-27&to=2021-06-30&guests=2',\n",
       " 'https://www.hostelworld.com/pwa/hosteldetails.php/SoHostel/London/92473?from=2021-06-27&to=2021-06-30&guests=2',\n",
       " 'https://www.hostelworld.com/pwa/hosteldetails.php/Keystone-House-Kings-Cross/London/43465?from=2021-06-27&to=2021-06-30&guests=2',\n",
       " 'https://www.hostelworld.com/pwa/hosteldetails.php/Clink261/London/516?from=2021-06-27&to=2021-06-30&guests=2',\n",
       " 'https://www.hostelworld.com/pwa/hosteldetails.php/Burlington-Residence/London/306383?from=2021-06-27&to=2021-06-30&guests=2',\n",
       " 'https://www.hostelworld.com/pwa/hosteldetails.php/London-Waterloo-Hostel/London/39493?from=2021-06-27&to=2021-06-30&guests=2',\n",
       " 'https://www.hostelworld.com/pwa/hosteldetails.php/Jaeger-Acton-Hostel/London/15584?from=2021-06-27&to=2021-06-30&guests=2',\n",
       " 'https://www.hostelworld.com/pwa/hosteldetails.php/Astor-Hyde-Park/London/25678?from=2021-06-27&to=2021-06-30&guests=2',\n",
       " 'https://www.hostelworld.com/pwa/hosteldetails.php/Abercorn-House/London/34216?from=2021-06-27&to=2021-06-30&guests=2',\n",
       " 'https://www.hostelworld.com/pwa/hosteldetails.php/St-Christopher-s-Oasis-Female-Only/London/504?from=2021-06-27&to=2021-06-30&guests=2',\n",
       " 'https://www.hostelworld.com/pwa/hosteldetails.php/Astor-Kensington/London/523?from=2021-06-27&to=2021-06-30&guests=2',\n",
       " 'https://www.hostelworld.com/pwa/hosteldetails.php/New-Cross-Inn-Hostel/London/15204?from=2021-06-27&to=2021-06-30&guests=2',\n",
       " 'https://www.hostelworld.com/pwa/hosteldetails.php/Mapesbury-Hostel/London/19667?from=2021-06-27&to=2021-06-30&guests=2',\n",
       " 'https://www.hostelworld.com/pwa/hosteldetails.php/Phoenix-Hostel/London/48221?from=2021-06-27&to=2021-06-30&guests=2',\n",
       " 'https://www.hostelworld.com/pwa/hosteldetails.php/Smart-Hyde-Park-Inn-Hostel/London/517?from=2021-06-27&to=2021-06-30&guests=2']"
      ]
     },
     "execution_count": 63,
     "metadata": {},
     "output_type": "execute_result"
    }
   ],
   "source": [
    "URL=[]\n",
    "for i in driver.find_elements_by_xpath(\"//h2[@class='title title-6']//a\"):\n",
    "    URL.append(i.get_attribute(\"href\"))\n",
    "URL"
   ]
  },
  {
   "cell_type": "code",
   "execution_count": 87,
   "id": "932ad573",
   "metadata": {},
   "outputs": [],
   "source": [
    "Name=[]\n",
    "Rating=[]\n",
    "Private=[]\n",
    "Facilities=[]\n",
    "Description=[]\n",
    "Total_review=[]\n",
    "Overall_review=[]\n",
    "\n",
    "for i in URL[0:5]:\n",
    "    driver.get(i)\n",
    "    \n",
    "    try:\n",
    "        name=driver.find_element_by_xpath(\"//div[@class='title-2']\")\n",
    "        Name.append(name.text)\n",
    "    except NoSuchElementException:\n",
    "        Name.append(\"_\")\n",
    "        \n",
    "    try:\n",
    "        rating=driver.find_element_by_xpath(\"//div[@class='score orange big']\")\n",
    "        Rating.append(rating.text)\n",
    "    except NoSuchElementException:\n",
    "        Rating.append(\"_\")\n",
    "        \n",
    "        \n",
    "    try:\n",
    "        total_review=driver.find_element_by_xpath(\"//div[@class='reviews']\")\n",
    "        Total_review.append(total_review.text)\n",
    "    except NoSuchElementException:\n",
    "        Total_review.append(\"_\")\n",
    "        \n",
    "        \n",
    "    try:\n",
    "        over=driver.find_element_by_xpath(\"//div[@class='keyword']\")\n",
    "        Overall_review.append(over.text)\n",
    "    except NoSuchElementException:\n",
    "        Overall_review.append(\"_\")\n",
    "        \n",
    "        \n",
    "    try:\n",
    "        description=driver.find_element_by_xpath(\"//div[@class='content collapse-content']\")\n",
    "        Description.append(description.text)\n",
    "    except NoSuchElementException:\n",
    "        Description.append(\"_\")\n",
    "        \n",
    "        \n",
    "    try:\n",
    "        facilities=driver.find_element_by_xpath(\"//ul[@class='facility-sections']\")\n",
    "        Facilities.append(facilities.text)\n",
    "    except NoSuchElementException:\n",
    "        Facilities.append(\"_\")\n",
    "        \n",
    "        \n",
    "    try:\n",
    "        private=driver.find_element_by_xpath(\"//div[@class='room-container desktop']\")\n",
    "        Private.append(private.text)\n",
    "    except NoSuchElementException:\n",
    "        Private.append(\"_\")\n"
   ]
  },
  {
   "cell_type": "code",
   "execution_count": 88,
   "id": "0b1d159f",
   "metadata": {},
   "outputs": [
    {
     "name": "stdout",
     "output_type": "stream",
     "text": [
      "5 5 5 5 5 5 5\n"
     ]
    }
   ],
   "source": [
    "print(len(Name),len(Rating),len(Private),len(Facilities),len(Description),len(Total_review),len(Overall_review))"
   ]
  },
  {
   "cell_type": "code",
   "execution_count": 90,
   "id": "632925ca",
   "metadata": {},
   "outputs": [
    {
     "data": {
      "text/plain": [
       "['_', '_', '_', '_', '_']"
      ]
     },
     "execution_count": 90,
     "metadata": {},
     "output_type": "execute_result"
    }
   ],
   "source": [
    "Private"
   ]
  },
  {
   "cell_type": "code",
   "execution_count": 89,
   "id": "87c90d25",
   "metadata": {},
   "outputs": [
    {
     "data": {
      "text/html": [
       "<div>\n",
       "<style scoped>\n",
       "    .dataframe tbody tr th:only-of-type {\n",
       "        vertical-align: middle;\n",
       "    }\n",
       "\n",
       "    .dataframe tbody tr th {\n",
       "        vertical-align: top;\n",
       "    }\n",
       "\n",
       "    .dataframe thead th {\n",
       "        text-align: right;\n",
       "    }\n",
       "</style>\n",
       "<table border=\"1\" class=\"dataframe\">\n",
       "  <thead>\n",
       "    <tr style=\"text-align: right;\">\n",
       "      <th></th>\n",
       "      <th>Name</th>\n",
       "      <th>Rating</th>\n",
       "      <th>Private</th>\n",
       "      <th>Facilities</th>\n",
       "      <th>Description</th>\n",
       "      <th>Total_review</th>\n",
       "      <th>Overall_review</th>\n",
       "    </tr>\n",
       "  </thead>\n",
       "  <tbody>\n",
       "    <tr>\n",
       "      <th>0</th>\n",
       "      <td>St Christopher's Village</td>\n",
       "      <td>8.9</td>\n",
       "      <td>_</td>\n",
       "      <td>Free\\nLinen Included Free City Maps Free WiFi ...</td>\n",
       "      <td>COVID 19 Policy Update.\\nIn response to Corona...</td>\n",
       "      <td>10814 Total Reviews</td>\n",
       "      <td>Fabulous</td>\n",
       "    </tr>\n",
       "    <tr>\n",
       "      <th>1</th>\n",
       "      <td>Generator London</td>\n",
       "      <td>7.5</td>\n",
       "      <td>_</td>\n",
       "      <td>Free\\nLinen Included Free City Maps Free WiFi ...</td>\n",
       "      <td>Generator London is a design hotel-hostel loca...</td>\n",
       "      <td>6729 Total Reviews</td>\n",
       "      <td>Very Good</td>\n",
       "    </tr>\n",
       "    <tr>\n",
       "      <th>2</th>\n",
       "      <td>PubLove @ The Crown, Battersea</td>\n",
       "      <td>7.9</td>\n",
       "      <td>_</td>\n",
       "      <td>Free\\nLinen Included Free City Maps Free WiFi\\...</td>\n",
       "      <td>Do London like a local.\\nStay just outside the...</td>\n",
       "      <td>204 Total Reviews</td>\n",
       "      <td>Very Good</td>\n",
       "    </tr>\n",
       "    <tr>\n",
       "      <th>3</th>\n",
       "      <td>Leman House</td>\n",
       "      <td>_</td>\n",
       "      <td>_</td>\n",
       "      <td>Free\\nFree WiFi Free Internet Access\\nGeneral\\...</td>\n",
       "      <td>People come from different parts of the world ...</td>\n",
       "      <td>0 Total Reviews</td>\n",
       "      <td>No Rating</td>\n",
       "    </tr>\n",
       "    <tr>\n",
       "      <th>4</th>\n",
       "      <td>247london Hostel and Private Rooms</td>\n",
       "      <td>_</td>\n",
       "      <td>_</td>\n",
       "      <td>Free\\nLinen Included Free WiFi Free Internet A...</td>\n",
       "      <td>247london Hostel and Private Rooms is a home a...</td>\n",
       "      <td>0 Total Reviews</td>\n",
       "      <td>No Rating</td>\n",
       "    </tr>\n",
       "  </tbody>\n",
       "</table>\n",
       "</div>"
      ],
      "text/plain": [
       "                                 Name Rating Private  \\\n",
       "0            St Christopher's Village    8.9       _   \n",
       "1                    Generator London    7.5       _   \n",
       "2      PubLove @ The Crown, Battersea    7.9       _   \n",
       "3                         Leman House      _       _   \n",
       "4  247london Hostel and Private Rooms      _       _   \n",
       "\n",
       "                                          Facilities  \\\n",
       "0  Free\\nLinen Included Free City Maps Free WiFi ...   \n",
       "1  Free\\nLinen Included Free City Maps Free WiFi ...   \n",
       "2  Free\\nLinen Included Free City Maps Free WiFi\\...   \n",
       "3  Free\\nFree WiFi Free Internet Access\\nGeneral\\...   \n",
       "4  Free\\nLinen Included Free WiFi Free Internet A...   \n",
       "\n",
       "                                         Description         Total_review  \\\n",
       "0  COVID 19 Policy Update.\\nIn response to Corona...  10814 Total Reviews   \n",
       "1  Generator London is a design hotel-hostel loca...   6729 Total Reviews   \n",
       "2  Do London like a local.\\nStay just outside the...    204 Total Reviews   \n",
       "3  People come from different parts of the world ...      0 Total Reviews   \n",
       "4  247london Hostel and Private Rooms is a home a...      0 Total Reviews   \n",
       "\n",
       "  Overall_review  \n",
       "0       Fabulous  \n",
       "1      Very Good  \n",
       "2      Very Good  \n",
       "3      No Rating  \n",
       "4      No Rating  "
      ]
     },
     "execution_count": 89,
     "metadata": {},
     "output_type": "execute_result"
    }
   ],
   "source": [
    "Hostel=pd.DataFrame({})\n",
    "Hostel['Name']=Name\n",
    "Hostel['Rating']=Rating\n",
    "Hostel['Private']=Private\n",
    "Hostel['Facilities']=Facilities\n",
    "Hostel['Description']=Description\n",
    "Hostel['Total_review']=Total_review\n",
    "Hostel['Overall_review']=Overall_review\n",
    "Hostel"
   ]
  },
  {
   "cell_type": "code",
   "execution_count": null,
   "id": "851ecd6f",
   "metadata": {},
   "outputs": [],
   "source": []
  }
 ],
 "metadata": {
  "kernelspec": {
   "display_name": "Python 3",
   "language": "python",
   "name": "python3"
  },
  "language_info": {
   "codemirror_mode": {
    "name": "ipython",
    "version": 3
   },
   "file_extension": ".py",
   "mimetype": "text/x-python",
   "name": "python",
   "nbconvert_exporter": "python",
   "pygments_lexer": "ipython3",
   "version": "3.8.8"
  }
 },
 "nbformat": 4,
 "nbformat_minor": 5
}
